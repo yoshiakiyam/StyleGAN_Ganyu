{
 "cells": [
  {
   "cell_type": "code",
   "execution_count": null,
   "metadata": {},
   "outputs": [],
   "source": [
    "from torch import optim\n",
    "\n",
    "\n",
    "\n",
    "from model import Generator, Discriminator\n",
    "from dataloader import get_loader\n",
    "from utils import train_fn, generate_examples\n",
    "\n",
    "from math import log2\n",
    "\n",
    "import config"
   ]
  },
  {
   "cell_type": "code",
   "execution_count": null,
   "metadata": {},
   "outputs": [],
   "source": [
    "gen = Generator(\n",
    "        config.Z_DIM, config.W_DIM, config.IN_CHANNELS, img_channels=config.CHANNELS_IMG\n",
    "    ).to(config.DEVICE)\n",
    "\n",
    "\n",
    "critic = Discriminator(config.IN_CHANNELS, img_channels=config.CHANNELS_IMG).to(config.DEVICE)\n",
    "# initialize optimizers\n",
    "\n",
    "\n",
    "opt_gen = optim.Adam([{\"params\": [param for name, param in gen.named_parameters() if \"map\" not in name]},\n",
    "                        {\"params\": gen.map.parameters(), \"lr\": 1e-5}], lr=config.LEARNING_RATE, betas=(0.0, 0.99))\n",
    "\n",
    "\n",
    "opt_critic = optim.Adam(\n",
    "    critic.parameters(), lr=config.LEARNING_RATE, betas=(0.0, 0.99)\n",
    ")\n",
    "\n"
   ]
  },
  {
   "cell_type": "code",
   "execution_count": null,
   "metadata": {},
   "outputs": [],
   "source": [
    "\n",
    "gen.train()\n",
    "critic.train()\n",
    "\n",
    "\n",
    "\n",
    "# start at step that corresponds to img size that we set in config\n",
    "step = int(log2(config.START_TRAIN_AT_IMG_SIZE / 4))\n",
    "for num_epochs in config.PROGRESSIVE_EPOCHS[step:]:\n",
    "    alpha = 1e-5   # start with very low alpha\n",
    "    loader, dataset = get_loader(4 * 2 ** step)  \n",
    "    print(f\"Current image size: {4 * 2 ** step}\")\n",
    "    img_save_freq = num_epochs // 20\n",
    "    \n",
    "    for epoch in range(num_epochs):\n",
    "        \n",
    "        print(f\"Epoch [{epoch+1}/{num_epochs}]\")\n",
    "        alpha = train_fn(\n",
    "            critic,\n",
    "            gen,\n",
    "            loader,\n",
    "            dataset,\n",
    "            step,\n",
    "            alpha,\n",
    "            opt_critic,\n",
    "            opt_gen\n",
    "        )\n",
    "        if epoch % img_save_freq == 0 or epoch == (num_epochs-1):\n",
    "            generate_examples(gen, step,f\"{epoch}_{num_epochs}\")\n",
    "    step += 1  # progress to the next img size"
   ]
  }
 ],
 "metadata": {
  "kernelspec": {
   "display_name": "Python 3",
   "language": "python",
   "name": "python3"
  },
  "language_info": {
   "codemirror_mode": {
    "name": "ipython",
    "version": 3
   },
   "file_extension": ".py",
   "mimetype": "text/x-python",
   "name": "python",
   "nbconvert_exporter": "python",
   "pygments_lexer": "ipython3",
   "version": "3.10.10"
  },
  "orig_nbformat": 4
 },
 "nbformat": 4,
 "nbformat_minor": 2
}
