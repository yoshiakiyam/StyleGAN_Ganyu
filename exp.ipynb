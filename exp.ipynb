{
 "cells": [
  {
   "cell_type": "code",
   "execution_count": 24,
   "metadata": {},
   "outputs": [
    {
     "name": "stdout",
     "output_type": "stream",
     "text": [
      "0: True\n",
      "1: False\n",
      "2: True\n",
      "3: False\n",
      "4: True\n",
      "5: False\n",
      "6: True\n",
      "7: False\n",
      "8: True\n",
      "9: False\n",
      "10: True\n",
      "11: False\n",
      "12: True\n",
      "13: False\n",
      "14: True\n",
      "15: False\n",
      "16: True\n",
      "17: False\n",
      "18: True\n",
      "19: False\n"
     ]
    }
   ],
   "source": [
    "import numpy as np\n",
    "\n",
    "num_epochs = 20\n",
    "step = num_epochs // 10\n",
    "for epoch in range(num_epochs):\n",
    "    if epoch % step == 0:\n",
    "        print(f\"{epoch}: True\")\n",
    "    else:\n",
    "        print(f\"{epoch}: False\")"
   ]
  }
 ],
 "metadata": {
  "kernelspec": {
   "display_name": "Python 3",
   "language": "python",
   "name": "python3"
  },
  "language_info": {
   "codemirror_mode": {
    "name": "ipython",
    "version": 3
   },
   "file_extension": ".py",
   "mimetype": "text/x-python",
   "name": "python",
   "nbconvert_exporter": "python",
   "pygments_lexer": "ipython3",
   "version": "3.10.10"
  },
  "orig_nbformat": 4
 },
 "nbformat": 4,
 "nbformat_minor": 2
}
